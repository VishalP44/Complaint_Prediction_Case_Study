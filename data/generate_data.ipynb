{
 "cells": [
  {
   "cell_type": "code",
   "execution_count": 1,
   "metadata": {},
   "outputs": [
    {
     "name": "stdout",
     "output_type": "stream",
     "text": [
      "Successfully generated 'complaints_data.csv' with 5000 records.\n",
      "Final complaint rate: 9.00%\n"
     ]
    }
   ],
   "source": [
    "import pandas as pd\n",
    "import numpy as np\n",
    "from faker import Faker\n",
    "\n",
    "# Initialize Faker to generate fake data\n",
    "fake = Faker()\n",
    "\n",
    "# --- Configuration ---\n",
    "NUM_RECORDS = 5000\n",
    "COMPLAINT_RATE = 0.08  # 8% of jobs will result in a complaint\n",
    "SLA_DAYS = 28 # Define the Service Level Agreement in days\n",
    "\n",
    "# --- Data Generation ---\n",
    "data = []\n",
    "for _ in range(NUM_RECORDS):\n",
    "    # Base Features\n",
    "    time_to_resolution = np.random.randint(1, 90)\n",
    "    chaser_count = np.random.randint(0, 6)\n",
    "    property_complaint_history = np.random.randint(0, 4)\n",
    "\n",
    "    # Engineered Features based on logic\n",
    "    sla_breach_flag = 1 if time_to_resolution > SLA_DAYS else 0\n",
    "\n",
    "    # --- Target Variable Logic ---\n",
    "    # Create a 'risk score' based on the features. Higher score = higher complaint likelihood.\n",
    "    risk_score = 0\n",
    "    if chaser_count >= 2:\n",
    "        risk_score += 0.5  # Heavy penalty for 2 or more chaser calls\n",
    "    if time_to_resolution > 45:\n",
    "        risk_score += 0.3  # Penalty for very long resolution times\n",
    "    if property_complaint_history > 1:\n",
    "        risk_score += 0.2  # Penalty for properties with a history of issues\n",
    "    \n",
    "    # Determine if a complaint occurs based on the risk score and the overall complaint rate\n",
    "    is_complaint = 1 if np.random.rand() < (COMPLAINT_RATE + risk_score) else 0\n",
    "    \n",
    "    data.append({\n",
    "        'time_to_resolution': time_to_resolution,\n",
    "        'chaser_count': chaser_count,\n",
    "        'property_complaint_history': property_complaint_history,\n",
    "        'sla_breach_flag': sla_breach_flag,\n",
    "        'is_complaint': is_complaint\n",
    "    })\n",
    "\n",
    "# --- Create DataFrame and Save ---\n",
    "df = pd.DataFrame(data)\n",
    "\n",
    "# Ensure the complaint rate is roughly what we aimed for\n",
    "# If there are too many or too few complaints, this loop will adjust it.\n",
    "while abs(df['is_complaint'].mean() - COMPLAINT_RATE) > 0.01:\n",
    "    # Find a random row to flip the complaint status\n",
    "    flip_idx = np.random.randint(0, NUM_RECORDS)\n",
    "    # Flip it towards the desired rate\n",
    "    if df['is_complaint'].mean() > COMPLAINT_RATE:\n",
    "        if df.loc[flip_idx, 'is_complaint'] == 1:\n",
    "            df.loc[flip_idx, 'is_complaint'] = 0\n",
    "    else:\n",
    "        if df.loc[flip_idx, 'is_complaint'] == 0:\n",
    "            df.loc[flip_idx, 'is_complaint'] = 1\n",
    "\n",
    "# Save the synthetic data to a CSV file\n",
    "df.to_csv('complaints_data.csv', index=False)\n",
    "\n",
    "print(f\"Successfully generated 'complaints_data.csv' with {len(df)} records.\")\n",
    "print(f\"Final complaint rate: {df['is_complaint'].mean():.2%}\")"
   ]
  },
  {
   "cell_type": "code",
   "execution_count": null,
   "metadata": {},
   "outputs": [],
   "source": []
  }
 ],
 "metadata": {
  "kernelspec": {
   "display_name": "base",
   "language": "python",
   "name": "python3"
  },
  "language_info": {
   "codemirror_mode": {
    "name": "ipython",
    "version": 3
   },
   "file_extension": ".py",
   "mimetype": "text/x-python",
   "name": "python",
   "nbconvert_exporter": "python",
   "pygments_lexer": "ipython3",
   "version": "3.12.7"
  }
 },
 "nbformat": 4,
 "nbformat_minor": 2
}
